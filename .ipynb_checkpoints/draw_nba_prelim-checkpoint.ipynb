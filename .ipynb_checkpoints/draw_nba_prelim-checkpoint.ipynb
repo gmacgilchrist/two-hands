{
 "cells": [
  {
   "cell_type": "code",
   "execution_count": 171,
   "metadata": {},
   "outputs": [],
   "source": [
    "import pandas as pd\n",
    "import numpy as np\n",
    "import xarray as xr\n",
    "from matplotlib import pyplot as plt"
   ]
  },
  {
   "cell_type": "code",
   "execution_count": 72,
   "metadata": {},
   "outputs": [],
   "source": [
    "# Load the data using pandas\n",
    "df = pd.read_json('../data/0021500655.json')"
   ]
  },
  {
   "cell_type": "code",
   "execution_count": 108,
   "metadata": {},
   "outputs": [],
   "source": [
    "# Pick out the events item and extract the dictionary therein\n",
    "events = pd.io.json.json_normalize(df.events)"
   ]
  },
  {
   "cell_type": "code",
   "execution_count": 130,
   "metadata": {},
   "outputs": [
    {
     "name": "stdout",
     "output_type": "stream",
     "text": [
      "   firstname jersey    lastname  playerid position\n",
      "0    Spencer     00       Hawes    201150      F-C\n",
      "1     Marvin      2    Williams    101107        F\n",
      "2     Jeremy      7         Lin    202391        G\n",
      "3      Aaron      9    Harrison   1626151        G\n",
      "4      Kemba     15      Walker    202689        G\n",
      "5         PJ     19    Hairston    203798      F-G\n",
      "6      Brian     22     Roberts    203148        G\n",
      "7       Troy     30     Daniels    203584        G\n",
      "8      Frank     44    Kaminsky   1626163        C\n",
      "9      Tyler     50  Hansbrough    201946        F\n",
      "10   Nicolas      5       Batum    201587      G-F\n",
      "11      Cody     40      Zeller    203469      C-F\n",
      "12    Jeremy      3        Lamb    203087        G\n",
      "   firstname jersey   lastname  playerid position\n",
      "0      Kevin      1   Seraphin    202338      F-C\n",
      "1   Langston      2   Galloway    204038        G\n",
      "2       Jose      3   Calderon    101181        G\n",
      "3      Arron      4    Afflalo    201167        G\n",
      "4   Kristaps      6  Porzingis    204001      F-C\n",
      "5    Carmelo      7    Anthony      2546        F\n",
      "6      Robin      8      Lopez    201577        C\n",
      "7       Kyle      9    O'Quinn    203124      F-C\n",
      "8     Jerian     13      Grant   1626170        G\n",
      "9        Lou     17   Amundson    200811        F\n",
      "10     Sasha     18    Vujacic      2756        G\n",
      "11   Derrick     23   Williams    202682        F\n",
      "12     Lance     42     Thomas    202498        F\n"
     ]
    }
   ],
   "source": [
    "homeplayers = pd.io.json.json_normalize(events['home.players'][0])\n",
    "visitorplayers = pd.io.json.json_normalize(events['visitor.players'][0])\n",
    "print(homeplayers)\n",
    "print(visitorplayers)"
   ]
  },
  {
   "cell_type": "code",
   "execution_count": 143,
   "metadata": {},
   "outputs": [],
   "source": [
    "# Find a smart way of assigning variable names to the entries in moments\n",
    "moments = np.asarray(events.moments[1])\n",
    "gameclock = moments[:,1]"
   ]
  },
  {
   "cell_type": "code",
   "execution_count": 199,
   "metadata": {},
   "outputs": [
    {
     "data": {
      "image/png": "[encoded data removed]",
      "text/plain": [
       "<Figure size 1152x288 with 2 Axes>"
      ]
     },
     "metadata": {
      "needs_background": "light"
     },
     "output_type": "display_data"
    }
   ],
   "source": [
    "# For the moment, just messing around plotting data\n",
    "m1 = np.asarray(moments[0,5])\n",
    "m2 = np.asarray(moments[400,5])\n",
    "\n",
    "fig,ax = plt.subplots(figsize=(16,4),ncols=2)\n",
    "ax[0].plot(m1[0,2],m1[0,3],marker='o',markersize=10)\n",
    "ax[1].plot(m1[0,2],m1[0,3],marker='o',markersize=10)\n",
    "for p in range(1,6):\n",
    "    ax[0].plot(m1[p,2],m1[p,3],marker='s',color='r',markersize=8)\n",
    "    ax[1].plot(m2[p,2],m2[p,3],marker='s',color='r',markersize=8)\n",
    "for p in range(6,11):\n",
    "    ax[0].plot(m1[p,2],m1[p,3],marker='s',color='g',markersize=8)\n",
    "    ax[1].plot(m2[p,2],m2[p,3],marker='s',color='g',markersize=8)"
   ]
  },
  {
   "cell_type": "code",
   "execution_count": 198,
   "metadata": {},
   "outputs": [
    {
     "data": {
      "text/plain": [
       "(440, 6)"
      ]
     },
     "execution_count": 198,
     "metadata": {},
     "output_type": "execute_result"
    }
   ],
   "source": [
    "moments.shape"
   ]
  }
 ],
 "metadata": {
  "kernelspec": {
   "display_name": "Python 3",
   "language": "python",
   "name": "python3"
  },
  "language_info": {
   "codemirror_mode": {
    "name": "ipython",
    "version": 3
   },
   "file_extension": ".py",
   "mimetype": "text/x-python",
   "name": "python",
   "nbconvert_exporter": "python",
   "pygments_lexer": "ipython3",
   "version": "3.7.0"
  }
 },
 "nbformat": 4,
 "nbformat_minor": 2
}
